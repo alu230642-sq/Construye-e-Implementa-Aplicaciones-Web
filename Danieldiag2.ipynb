{
  "nbformat": 4,
  "nbformat_minor": 0,
  "metadata": {
    "colab": {
      "provenance": [],
      "authorship_tag": "ABX9TyNCEQ1Ejj0D/NRuc+c+Wtj4",
      "include_colab_link": true
    },
    "kernelspec": {
      "name": "python3",
      "display_name": "Python 3"
    },
    "language_info": {
      "name": "python"
    }
  },
  "cells": [
    {
      "cell_type": "markdown",
      "metadata": {
        "id": "view-in-github",
        "colab_type": "text"
      },
      "source": [
        "<a href=\"https://colab.research.google.com/github/alu230642-sq/Construye-e-Implementa-Aplicaciones-Web/blob/main/Danieldiag2.ipynb\" target=\"_parent\"><img src=\"https://colab.research.google.com/assets/colab-badge.svg\" alt=\"Open In Colab\"/></a>"
      ]
    },
    {
      "cell_type": "markdown",
      "source": [
        "Trabajo 1"
      ],
      "metadata": {
        "id": "L2CWeuxA108h"
      }
    },
    {
      "cell_type": "code",
      "execution_count": 1,
      "metadata": {
        "colab": {
          "base_uri": "https://localhost:8080/"
        },
        "id": "V5jUQa0J1MN5",
        "outputId": "c41f9b79-6d38-41b3-faad-797ac7bb72fd"
      },
      "outputs": [
        {
          "output_type": "stream",
          "name": "stdout",
          "text": [
            "Programa 1\n",
            "Daniel garcia Payan\n"
          ]
        }
      ],
      "source": [
        "print(\"Programa 1\")\n",
        "print(\"Daniel garcia Payan\")"
      ]
    },
    {
      "cell_type": "markdown",
      "source": [
        "Trabajo 2"
      ],
      "metadata": {
        "id": "OXZklPa21yvZ"
      }
    },
    {
      "cell_type": "code",
      "source": [
        "print(\"Programa 2\")\n",
        "num1=float(input(\"Ingrese el primer numero: \"))\n",
        "num2=float(input(\"Ingresa el segundo numero: \"))\n",
        "suma=num1+num2\n",
        "print(\"La suma es: \", suma)"
      ],
      "metadata": {
        "colab": {
          "base_uri": "https://localhost:8080/"
        },
        "id": "b3APTHBl10Op",
        "outputId": "0fe20fa6-5bbe-4f0b-8a5e-6676e37e43b2"
      },
      "execution_count": 3,
      "outputs": [
        {
          "output_type": "stream",
          "name": "stdout",
          "text": [
            "Programa 2\n",
            "Ingrese el primer numero: 1.6\n",
            "Ingresa el segundo numero: 1.1\n",
            "La suma es:  2.7\n"
          ]
        }
      ]
    },
    {
      "cell_type": "markdown",
      "source": [
        "Trabajo 3"
      ],
      "metadata": {
        "id": "9vgopRK_2fMA"
      }
    },
    {
      "cell_type": "code",
      "source": [
        "print(\"Programa 3\")\n",
        "num1=float(input(\"Ingrese el radio del circulo: \"))\n",
        "pi=3.1416\n",
        "area=pi*(num1**2)\n",
        "print(\"El area del circulo es de: \",area)"
      ],
      "metadata": {
        "colab": {
          "base_uri": "https://localhost:8080/"
        },
        "id": "04aQcRdO2lSw",
        "outputId": "ad2ec588-129f-4acc-8c7c-0c8a1e72c64a"
      },
      "execution_count": 5,
      "outputs": [
        {
          "output_type": "stream",
          "name": "stdout",
          "text": [
            "Programa 3\n",
            "Ingrese el radio del circulo: 5\n",
            "El area del circulo es de:  78.53999999999999\n"
          ]
        }
      ]
    },
    {
      "cell_type": "markdown",
      "source": [
        "Trabajo 4"
      ],
      "metadata": {
        "id": "eR3xxrcu3dFO"
      }
    },
    {
      "cell_type": "code",
      "source": [
        "num1 = 9\n",
        "num2 = 10\n",
        "num3 = 8\n",
        "print(\"Daniel Garcia payan 4Q\")\n",
        "print(\"Calificacion 1: \",num1)\n",
        "print(\"Calificion 2: \", num2)\n",
        "print(\"Calificacion 3: \",num3)\n",
        "print(\"Promedio general: \",(num1+num2+num3)/3)"
      ],
      "metadata": {
        "colab": {
          "base_uri": "https://localhost:8080/"
        },
        "id": "wXKdop015qIB",
        "outputId": "2932c97a-fb81-44ef-b6f2-39b4bdf2c1df"
      },
      "execution_count": 7,
      "outputs": [
        {
          "output_type": "stream",
          "name": "stdout",
          "text": [
            "Daniel Garcia payan 4Q\n",
            "Calificacion 1:  9\n",
            "Calificion 2:  10\n",
            "Calificacion 3:  8\n",
            "Promedio general:  9.0\n"
          ]
        }
      ]
    }
  ]
}